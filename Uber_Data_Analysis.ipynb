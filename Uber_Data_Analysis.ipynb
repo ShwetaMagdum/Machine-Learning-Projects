{
  "nbformat": 4,
  "nbformat_minor": 0,
  "metadata": {
    "colab": {
      "name": "Uber Data Analysis",
      "provenance": [],
      "collapsed_sections": [],
      "include_colab_link": true
    },
    "kernelspec": {
      "name": "python3",
      "display_name": "Python 3"
    },
    "language_info": {
      "name": "python"
    }
  },
  "cells": [
    {
      "cell_type": "markdown",
      "metadata": {
        "id": "view-in-github",
        "colab_type": "text"
      },
      "source": [
        "<a href=\"https://colab.research.google.com/github/ShwetaM4414/Machine-Learning-Projects/blob/main/Uber_Data_Analysis.ipynb\" target=\"_parent\"><img src=\"https://colab.research.google.com/assets/colab-badge.svg\" alt=\"Open In Colab\"/></a>"
      ]
    },
    {
      "cell_type": "markdown",
      "source": [
        "Import Libraries"
      ],
      "metadata": {
        "id": "m7i3fPzJBCC2"
      }
    },
    {
      "cell_type": "code",
      "execution_count": null,
      "metadata": {
        "id": "WE6FR8ud8fJl"
      },
      "outputs": [],
      "source": [
        "import numpy as np\n",
        "import pandas as pd\n",
        "import matplotlib.pyplot as plt\n",
        "import seaborn as sns"
      ]
    },
    {
      "cell_type": "markdown",
      "source": [
        "Load the CSV File"
      ],
      "metadata": {
        "id": "_gUP7cbQ_iEN"
      }
    },
    {
      "cell_type": "code",
      "source": [
        "april14_data = pd.read_csv('uber-raw-data-apr14.csv')"
      ],
      "metadata": {
        "id": "v501kfT8973Y"
      },
      "execution_count": null,
      "outputs": []
    },
    {
      "cell_type": "markdown",
      "source": [
        "Display the last 10 rows of the dataframe"
      ],
      "metadata": {
        "id": "2Nvs40PL44X4"
      }
    },
    {
      "cell_type": "code",
      "source": [
        "april14_data.tail(10)"
      ],
      "metadata": {
        "colab": {
          "base_uri": "https://localhost:8080/",
          "height": 363
        },
        "id": "_oNl4RGo-xdu",
        "outputId": "870fbe68-7f55-4e75-eb54-83ccc8d69afb"
      },
      "execution_count": null,
      "outputs": [
        {
          "output_type": "execute_result",
          "data": {
            "text/plain": [
              "                 Date/Time      Lat      Lon    Base\n",
              "564506  4/30/2014 23:00:00  40.7316 -73.9891  B02764\n",
              "564507  4/30/2014 23:04:00  40.7267 -73.9937  B02764\n",
              "564508  4/30/2014 23:05:00  40.7788 -73.9600  B02764\n",
              "564509  4/30/2014 23:15:00  40.7420 -74.0037  B02764\n",
              "564510  4/30/2014 23:18:00  40.7514 -74.0066  B02764\n",
              "564511  4/30/2014 23:22:00  40.7640 -73.9744  B02764\n",
              "564512  4/30/2014 23:26:00  40.7629 -73.9672  B02764\n",
              "564513  4/30/2014 23:31:00  40.7443 -73.9889  B02764\n",
              "564514  4/30/2014 23:32:00  40.6756 -73.9405  B02764\n",
              "564515  4/30/2014 23:48:00  40.6880 -73.9608  B02764"
            ],
            "text/html": [
              "\n",
              "  <div id=\"df-c7f52b59-0719-44ea-a244-2fe99cb5a3ad\">\n",
              "    <div class=\"colab-df-container\">\n",
              "      <div>\n",
              "<style scoped>\n",
              "    .dataframe tbody tr th:only-of-type {\n",
              "        vertical-align: middle;\n",
              "    }\n",
              "\n",
              "    .dataframe tbody tr th {\n",
              "        vertical-align: top;\n",
              "    }\n",
              "\n",
              "    .dataframe thead th {\n",
              "        text-align: right;\n",
              "    }\n",
              "</style>\n",
              "<table border=\"1\" class=\"dataframe\">\n",
              "  <thead>\n",
              "    <tr style=\"text-align: right;\">\n",
              "      <th></th>\n",
              "      <th>Date/Time</th>\n",
              "      <th>Lat</th>\n",
              "      <th>Lon</th>\n",
              "      <th>Base</th>\n",
              "    </tr>\n",
              "  </thead>\n",
              "  <tbody>\n",
              "    <tr>\n",
              "      <th>564506</th>\n",
              "      <td>4/30/2014 23:00:00</td>\n",
              "      <td>40.7316</td>\n",
              "      <td>-73.9891</td>\n",
              "      <td>B02764</td>\n",
              "    </tr>\n",
              "    <tr>\n",
              "      <th>564507</th>\n",
              "      <td>4/30/2014 23:04:00</td>\n",
              "      <td>40.7267</td>\n",
              "      <td>-73.9937</td>\n",
              "      <td>B02764</td>\n",
              "    </tr>\n",
              "    <tr>\n",
              "      <th>564508</th>\n",
              "      <td>4/30/2014 23:05:00</td>\n",
              "      <td>40.7788</td>\n",
              "      <td>-73.9600</td>\n",
              "      <td>B02764</td>\n",
              "    </tr>\n",
              "    <tr>\n",
              "      <th>564509</th>\n",
              "      <td>4/30/2014 23:15:00</td>\n",
              "      <td>40.7420</td>\n",
              "      <td>-74.0037</td>\n",
              "      <td>B02764</td>\n",
              "    </tr>\n",
              "    <tr>\n",
              "      <th>564510</th>\n",
              "      <td>4/30/2014 23:18:00</td>\n",
              "      <td>40.7514</td>\n",
              "      <td>-74.0066</td>\n",
              "      <td>B02764</td>\n",
              "    </tr>\n",
              "    <tr>\n",
              "      <th>564511</th>\n",
              "      <td>4/30/2014 23:22:00</td>\n",
              "      <td>40.7640</td>\n",
              "      <td>-73.9744</td>\n",
              "      <td>B02764</td>\n",
              "    </tr>\n",
              "    <tr>\n",
              "      <th>564512</th>\n",
              "      <td>4/30/2014 23:26:00</td>\n",
              "      <td>40.7629</td>\n",
              "      <td>-73.9672</td>\n",
              "      <td>B02764</td>\n",
              "    </tr>\n",
              "    <tr>\n",
              "      <th>564513</th>\n",
              "      <td>4/30/2014 23:31:00</td>\n",
              "      <td>40.7443</td>\n",
              "      <td>-73.9889</td>\n",
              "      <td>B02764</td>\n",
              "    </tr>\n",
              "    <tr>\n",
              "      <th>564514</th>\n",
              "      <td>4/30/2014 23:32:00</td>\n",
              "      <td>40.6756</td>\n",
              "      <td>-73.9405</td>\n",
              "      <td>B02764</td>\n",
              "    </tr>\n",
              "    <tr>\n",
              "      <th>564515</th>\n",
              "      <td>4/30/2014 23:48:00</td>\n",
              "      <td>40.6880</td>\n",
              "      <td>-73.9608</td>\n",
              "      <td>B02764</td>\n",
              "    </tr>\n",
              "  </tbody>\n",
              "</table>\n",
              "</div>\n",
              "      <button class=\"colab-df-convert\" onclick=\"convertToInteractive('df-c7f52b59-0719-44ea-a244-2fe99cb5a3ad')\"\n",
              "              title=\"Convert this dataframe to an interactive table.\"\n",
              "              style=\"display:none;\">\n",
              "        \n",
              "  <svg xmlns=\"http://www.w3.org/2000/svg\" height=\"24px\"viewBox=\"0 0 24 24\"\n",
              "       width=\"24px\">\n",
              "    <path d=\"M0 0h24v24H0V0z\" fill=\"none\"/>\n",
              "    <path d=\"M18.56 5.44l.94 2.06.94-2.06 2.06-.94-2.06-.94-.94-2.06-.94 2.06-2.06.94zm-11 1L8.5 8.5l.94-2.06 2.06-.94-2.06-.94L8.5 2.5l-.94 2.06-2.06.94zm10 10l.94 2.06.94-2.06 2.06-.94-2.06-.94-.94-2.06-.94 2.06-2.06.94z\"/><path d=\"M17.41 7.96l-1.37-1.37c-.4-.4-.92-.59-1.43-.59-.52 0-1.04.2-1.43.59L10.3 9.45l-7.72 7.72c-.78.78-.78 2.05 0 2.83L4 21.41c.39.39.9.59 1.41.59.51 0 1.02-.2 1.41-.59l7.78-7.78 2.81-2.81c.8-.78.8-2.07 0-2.86zM5.41 20L4 18.59l7.72-7.72 1.47 1.35L5.41 20z\"/>\n",
              "  </svg>\n",
              "      </button>\n",
              "      \n",
              "  <style>\n",
              "    .colab-df-container {\n",
              "      display:flex;\n",
              "      flex-wrap:wrap;\n",
              "      gap: 12px;\n",
              "    }\n",
              "\n",
              "    .colab-df-convert {\n",
              "      background-color: #E8F0FE;\n",
              "      border: none;\n",
              "      border-radius: 50%;\n",
              "      cursor: pointer;\n",
              "      display: none;\n",
              "      fill: #1967D2;\n",
              "      height: 32px;\n",
              "      padding: 0 0 0 0;\n",
              "      width: 32px;\n",
              "    }\n",
              "\n",
              "    .colab-df-convert:hover {\n",
              "      background-color: #E2EBFA;\n",
              "      box-shadow: 0px 1px 2px rgba(60, 64, 67, 0.3), 0px 1px 3px 1px rgba(60, 64, 67, 0.15);\n",
              "      fill: #174EA6;\n",
              "    }\n",
              "\n",
              "    [theme=dark] .colab-df-convert {\n",
              "      background-color: #3B4455;\n",
              "      fill: #D2E3FC;\n",
              "    }\n",
              "\n",
              "    [theme=dark] .colab-df-convert:hover {\n",
              "      background-color: #434B5C;\n",
              "      box-shadow: 0px 1px 3px 1px rgba(0, 0, 0, 0.15);\n",
              "      filter: drop-shadow(0px 1px 2px rgba(0, 0, 0, 0.3));\n",
              "      fill: #FFFFFF;\n",
              "    }\n",
              "  </style>\n",
              "\n",
              "      <script>\n",
              "        const buttonEl =\n",
              "          document.querySelector('#df-c7f52b59-0719-44ea-a244-2fe99cb5a3ad button.colab-df-convert');\n",
              "        buttonEl.style.display =\n",
              "          google.colab.kernel.accessAllowed ? 'block' : 'none';\n",
              "\n",
              "        async function convertToInteractive(key) {\n",
              "          const element = document.querySelector('#df-c7f52b59-0719-44ea-a244-2fe99cb5a3ad');\n",
              "          const dataTable =\n",
              "            await google.colab.kernel.invokeFunction('convertToInteractive',\n",
              "                                                     [key], {});\n",
              "          if (!dataTable) return;\n",
              "\n",
              "          const docLinkHtml = 'Like what you see? Visit the ' +\n",
              "            '<a target=\"_blank\" href=https://colab.research.google.com/notebooks/data_table.ipynb>data table notebook</a>'\n",
              "            + ' to learn more about interactive tables.';\n",
              "          element.innerHTML = '';\n",
              "          dataTable['output_type'] = 'display_data';\n",
              "          await google.colab.output.renderOutput(dataTable, element);\n",
              "          const docLink = document.createElement('div');\n",
              "          docLink.innerHTML = docLinkHtml;\n",
              "          element.appendChild(docLink);\n",
              "        }\n",
              "      </script>\n",
              "    </div>\n",
              "  </div>\n",
              "  "
            ]
          },
          "metadata": {},
          "execution_count": 61
        }
      ]
    },
    {
      "cell_type": "markdown",
      "source": [
        "Checking Dimension of the Dataset"
      ],
      "metadata": {
        "id": "LTdGSfePAZuV"
      }
    },
    {
      "cell_type": "code",
      "source": [
        "april14_data.shape"
      ],
      "metadata": {
        "colab": {
          "base_uri": "https://localhost:8080/"
        },
        "id": "d2U7ob7k_Zb5",
        "outputId": "df835e8e-e18e-4e1c-a563-57c6798166f9"
      },
      "execution_count": null,
      "outputs": [
        {
          "output_type": "execute_result",
          "data": {
            "text/plain": [
              "(564516, 4)"
            ]
          },
          "metadata": {},
          "execution_count": 62
        }
      ]
    },
    {
      "cell_type": "markdown",
      "source": [
        "Checking size of the dataset"
      ],
      "metadata": {
        "id": "ufwO6sZuAfCs"
      }
    },
    {
      "cell_type": "code",
      "source": [
        "april14_data.size"
      ],
      "metadata": {
        "colab": {
          "base_uri": "https://localhost:8080/"
        },
        "id": "F5HfZFvS_Y4g",
        "outputId": "dba48c60-d945-4b71-d6e7-1707e7c050bb"
      },
      "execution_count": null,
      "outputs": [
        {
          "output_type": "execute_result",
          "data": {
            "text/plain": [
              "2258064"
            ]
          },
          "metadata": {},
          "execution_count": 63
        }
      ]
    },
    {
      "cell_type": "markdown",
      "source": [
        "Checking missing values"
      ],
      "metadata": {
        "id": "UjX8ygTTAkcD"
      }
    },
    {
      "cell_type": "code",
      "source": [
        "april14_data.isnull().values.any()"
      ],
      "metadata": {
        "colab": {
          "base_uri": "https://localhost:8080/"
        },
        "id": "qulIP38XAHq2",
        "outputId": "6106d568-1562-4b71-9a4a-052a0fadfb33"
      },
      "execution_count": null,
      "outputs": [
        {
          "output_type": "execute_result",
          "data": {
            "text/plain": [
              "False"
            ]
          },
          "metadata": {},
          "execution_count": 64
        }
      ]
    },
    {
      "cell_type": "code",
      "source": [
        "april14_data.info()"
      ],
      "metadata": {
        "colab": {
          "base_uri": "https://localhost:8080/"
        },
        "id": "xNTO5yR2AvKk",
        "outputId": "dfa02333-18fc-445b-e215-314ceff3baf0"
      },
      "execution_count": null,
      "outputs": [
        {
          "output_type": "stream",
          "name": "stdout",
          "text": [
            "<class 'pandas.core.frame.DataFrame'>\n",
            "RangeIndex: 564516 entries, 0 to 564515\n",
            "Data columns (total 4 columns):\n",
            " #   Column     Non-Null Count   Dtype  \n",
            "---  ------     --------------   -----  \n",
            " 0   Date/Time  564516 non-null  object \n",
            " 1   Lat        564516 non-null  float64\n",
            " 2   Lon        564516 non-null  float64\n",
            " 3   Base       564516 non-null  object \n",
            "dtypes: float64(2), object(2)\n",
            "memory usage: 17.2+ MB\n"
          ]
        }
      ]
    },
    {
      "cell_type": "markdown",
      "source": [
        "Convert Date Time"
      ],
      "metadata": {
        "id": "sSnLgoCkBWde"
      }
    },
    {
      "cell_type": "code",
      "source": [
        "april14_data['Date/Time'] = april14_data['Date/Time'].map(pd.to_datetime)"
      ],
      "metadata": {
        "id": "DYplcEOSBVcK"
      },
      "execution_count": null,
      "outputs": []
    },
    {
      "cell_type": "code",
      "source": [
        "april14_data.tail(10)"
      ],
      "metadata": {
        "colab": {
          "base_uri": "https://localhost:8080/",
          "height": 363
        },
        "id": "a8PmXbMgBTrB",
        "outputId": "df3eeb9e-12c2-4948-87ec-079b99402fcc"
      },
      "execution_count": null,
      "outputs": [
        {
          "output_type": "execute_result",
          "data": {
            "text/plain": [
              "                 Date/Time      Lat      Lon    Base\n",
              "564506 2014-04-30 23:00:00  40.7316 -73.9891  B02764\n",
              "564507 2014-04-30 23:04:00  40.7267 -73.9937  B02764\n",
              "564508 2014-04-30 23:05:00  40.7788 -73.9600  B02764\n",
              "564509 2014-04-30 23:15:00  40.7420 -74.0037  B02764\n",
              "564510 2014-04-30 23:18:00  40.7514 -74.0066  B02764\n",
              "564511 2014-04-30 23:22:00  40.7640 -73.9744  B02764\n",
              "564512 2014-04-30 23:26:00  40.7629 -73.9672  B02764\n",
              "564513 2014-04-30 23:31:00  40.7443 -73.9889  B02764\n",
              "564514 2014-04-30 23:32:00  40.6756 -73.9405  B02764\n",
              "564515 2014-04-30 23:48:00  40.6880 -73.9608  B02764"
            ],
            "text/html": [
              "\n",
              "  <div id=\"df-7d5d8d9e-effe-42ec-accc-3f82c8b86b37\">\n",
              "    <div class=\"colab-df-container\">\n",
              "      <div>\n",
              "<style scoped>\n",
              "    .dataframe tbody tr th:only-of-type {\n",
              "        vertical-align: middle;\n",
              "    }\n",
              "\n",
              "    .dataframe tbody tr th {\n",
              "        vertical-align: top;\n",
              "    }\n",
              "\n",
              "    .dataframe thead th {\n",
              "        text-align: right;\n",
              "    }\n",
              "</style>\n",
              "<table border=\"1\" class=\"dataframe\">\n",
              "  <thead>\n",
              "    <tr style=\"text-align: right;\">\n",
              "      <th></th>\n",
              "      <th>Date/Time</th>\n",
              "      <th>Lat</th>\n",
              "      <th>Lon</th>\n",
              "      <th>Base</th>\n",
              "    </tr>\n",
              "  </thead>\n",
              "  <tbody>\n",
              "    <tr>\n",
              "      <th>564506</th>\n",
              "      <td>2014-04-30 23:00:00</td>\n",
              "      <td>40.7316</td>\n",
              "      <td>-73.9891</td>\n",
              "      <td>B02764</td>\n",
              "    </tr>\n",
              "    <tr>\n",
              "      <th>564507</th>\n",
              "      <td>2014-04-30 23:04:00</td>\n",
              "      <td>40.7267</td>\n",
              "      <td>-73.9937</td>\n",
              "      <td>B02764</td>\n",
              "    </tr>\n",
              "    <tr>\n",
              "      <th>564508</th>\n",
              "      <td>2014-04-30 23:05:00</td>\n",
              "      <td>40.7788</td>\n",
              "      <td>-73.9600</td>\n",
              "      <td>B02764</td>\n",
              "    </tr>\n",
              "    <tr>\n",
              "      <th>564509</th>\n",
              "      <td>2014-04-30 23:15:00</td>\n",
              "      <td>40.7420</td>\n",
              "      <td>-74.0037</td>\n",
              "      <td>B02764</td>\n",
              "    </tr>\n",
              "    <tr>\n",
              "      <th>564510</th>\n",
              "      <td>2014-04-30 23:18:00</td>\n",
              "      <td>40.7514</td>\n",
              "      <td>-74.0066</td>\n",
              "      <td>B02764</td>\n",
              "    </tr>\n",
              "    <tr>\n",
              "      <th>564511</th>\n",
              "      <td>2014-04-30 23:22:00</td>\n",
              "      <td>40.7640</td>\n",
              "      <td>-73.9744</td>\n",
              "      <td>B02764</td>\n",
              "    </tr>\n",
              "    <tr>\n",
              "      <th>564512</th>\n",
              "      <td>2014-04-30 23:26:00</td>\n",
              "      <td>40.7629</td>\n",
              "      <td>-73.9672</td>\n",
              "      <td>B02764</td>\n",
              "    </tr>\n",
              "    <tr>\n",
              "      <th>564513</th>\n",
              "      <td>2014-04-30 23:31:00</td>\n",
              "      <td>40.7443</td>\n",
              "      <td>-73.9889</td>\n",
              "      <td>B02764</td>\n",
              "    </tr>\n",
              "    <tr>\n",
              "      <th>564514</th>\n",
              "      <td>2014-04-30 23:32:00</td>\n",
              "      <td>40.6756</td>\n",
              "      <td>-73.9405</td>\n",
              "      <td>B02764</td>\n",
              "    </tr>\n",
              "    <tr>\n",
              "      <th>564515</th>\n",
              "      <td>2014-04-30 23:48:00</td>\n",
              "      <td>40.6880</td>\n",
              "      <td>-73.9608</td>\n",
              "      <td>B02764</td>\n",
              "    </tr>\n",
              "  </tbody>\n",
              "</table>\n",
              "</div>\n",
              "      <button class=\"colab-df-convert\" onclick=\"convertToInteractive('df-7d5d8d9e-effe-42ec-accc-3f82c8b86b37')\"\n",
              "              title=\"Convert this dataframe to an interactive table.\"\n",
              "              style=\"display:none;\">\n",
              "        \n",
              "  <svg xmlns=\"http://www.w3.org/2000/svg\" height=\"24px\"viewBox=\"0 0 24 24\"\n",
              "       width=\"24px\">\n",
              "    <path d=\"M0 0h24v24H0V0z\" fill=\"none\"/>\n",
              "    <path d=\"M18.56 5.44l.94 2.06.94-2.06 2.06-.94-2.06-.94-.94-2.06-.94 2.06-2.06.94zm-11 1L8.5 8.5l.94-2.06 2.06-.94-2.06-.94L8.5 2.5l-.94 2.06-2.06.94zm10 10l.94 2.06.94-2.06 2.06-.94-2.06-.94-.94-2.06-.94 2.06-2.06.94z\"/><path d=\"M17.41 7.96l-1.37-1.37c-.4-.4-.92-.59-1.43-.59-.52 0-1.04.2-1.43.59L10.3 9.45l-7.72 7.72c-.78.78-.78 2.05 0 2.83L4 21.41c.39.39.9.59 1.41.59.51 0 1.02-.2 1.41-.59l7.78-7.78 2.81-2.81c.8-.78.8-2.07 0-2.86zM5.41 20L4 18.59l7.72-7.72 1.47 1.35L5.41 20z\"/>\n",
              "  </svg>\n",
              "      </button>\n",
              "      \n",
              "  <style>\n",
              "    .colab-df-container {\n",
              "      display:flex;\n",
              "      flex-wrap:wrap;\n",
              "      gap: 12px;\n",
              "    }\n",
              "\n",
              "    .colab-df-convert {\n",
              "      background-color: #E8F0FE;\n",
              "      border: none;\n",
              "      border-radius: 50%;\n",
              "      cursor: pointer;\n",
              "      display: none;\n",
              "      fill: #1967D2;\n",
              "      height: 32px;\n",
              "      padding: 0 0 0 0;\n",
              "      width: 32px;\n",
              "    }\n",
              "\n",
              "    .colab-df-convert:hover {\n",
              "      background-color: #E2EBFA;\n",
              "      box-shadow: 0px 1px 2px rgba(60, 64, 67, 0.3), 0px 1px 3px 1px rgba(60, 64, 67, 0.15);\n",
              "      fill: #174EA6;\n",
              "    }\n",
              "\n",
              "    [theme=dark] .colab-df-convert {\n",
              "      background-color: #3B4455;\n",
              "      fill: #D2E3FC;\n",
              "    }\n",
              "\n",
              "    [theme=dark] .colab-df-convert:hover {\n",
              "      background-color: #434B5C;\n",
              "      box-shadow: 0px 1px 3px 1px rgba(0, 0, 0, 0.15);\n",
              "      filter: drop-shadow(0px 1px 2px rgba(0, 0, 0, 0.3));\n",
              "      fill: #FFFFFF;\n",
              "    }\n",
              "  </style>\n",
              "\n",
              "      <script>\n",
              "        const buttonEl =\n",
              "          document.querySelector('#df-7d5d8d9e-effe-42ec-accc-3f82c8b86b37 button.colab-df-convert');\n",
              "        buttonEl.style.display =\n",
              "          google.colab.kernel.accessAllowed ? 'block' : 'none';\n",
              "\n",
              "        async function convertToInteractive(key) {\n",
              "          const element = document.querySelector('#df-7d5d8d9e-effe-42ec-accc-3f82c8b86b37');\n",
              "          const dataTable =\n",
              "            await google.colab.kernel.invokeFunction('convertToInteractive',\n",
              "                                                     [key], {});\n",
              "          if (!dataTable) return;\n",
              "\n",
              "          const docLinkHtml = 'Like what you see? Visit the ' +\n",
              "            '<a target=\"_blank\" href=https://colab.research.google.com/notebooks/data_table.ipynb>data table notebook</a>'\n",
              "            + ' to learn more about interactive tables.';\n",
              "          element.innerHTML = '';\n",
              "          dataTable['output_type'] = 'display_data';\n",
              "          await google.colab.output.renderOutput(dataTable, element);\n",
              "          const docLink = document.createElement('div');\n",
              "          docLink.innerHTML = docLinkHtml;\n",
              "          element.appendChild(docLink);\n",
              "        }\n",
              "      </script>\n",
              "    </div>\n",
              "  </div>\n",
              "  "
            ]
          },
          "metadata": {},
          "execution_count": 67
        }
      ]
    },
    {
      "cell_type": "markdown",
      "source": [
        "Adding more columns"
      ],
      "metadata": {
        "id": "2HwrDEdbElau"
      }
    },
    {
      "cell_type": "code",
      "source": [
        "def GetDOM(dt):\n",
        "  return dt.day\n",
        "\n",
        "april14_data['Date_of_Month'] = april14_data['Date/Time'].map(GetDOM)"
      ],
      "metadata": {
        "id": "HMI71HjwDuMs"
      },
      "execution_count": null,
      "outputs": []
    },
    {
      "cell_type": "code",
      "source": [
        "def GetWeekday(dt):\n",
        "  return dt.weekday()\n",
        "\n",
        "april14_data['Weekday'] = april14_data['Date/Time'].map(GetWeekday)"
      ],
      "metadata": {
        "id": "EEkwJvg_CD8z"
      },
      "execution_count": null,
      "outputs": []
    },
    {
      "cell_type": "code",
      "source": [
        "def GetHour(dt):\n",
        "  return dt.hour\n",
        "\n",
        "april14_data['Hour'] = april14_data['Date/Time'].map(GetHour)"
      ],
      "metadata": {
        "id": "tjHbg2PlC385"
      },
      "execution_count": null,
      "outputs": []
    },
    {
      "cell_type": "code",
      "source": [
        "april14_data.head(10)"
      ],
      "metadata": {
        "colab": {
          "base_uri": "https://localhost:8080/",
          "height": 363
        },
        "id": "mph6jWOeDeMX",
        "outputId": "40d69e2a-3d93-4004-aa38-dd888436a9a3"
      },
      "execution_count": null,
      "outputs": [
        {
          "output_type": "execute_result",
          "data": {
            "text/plain": [
              "            Date/Time      Lat      Lon    Base  Date_of_Month  Weekday  Hour\n",
              "0 2014-04-01 00:11:00  40.7690 -73.9549  B02512              1        1     0\n",
              "1 2014-04-01 00:17:00  40.7267 -74.0345  B02512              1        1     0\n",
              "2 2014-04-01 00:21:00  40.7316 -73.9873  B02512              1        1     0\n",
              "3 2014-04-01 00:28:00  40.7588 -73.9776  B02512              1        1     0\n",
              "4 2014-04-01 00:33:00  40.7594 -73.9722  B02512              1        1     0\n",
              "5 2014-04-01 00:33:00  40.7383 -74.0403  B02512              1        1     0\n",
              "6 2014-04-01 00:39:00  40.7223 -73.9887  B02512              1        1     0\n",
              "7 2014-04-01 00:45:00  40.7620 -73.9790  B02512              1        1     0\n",
              "8 2014-04-01 00:55:00  40.7524 -73.9960  B02512              1        1     0\n",
              "9 2014-04-01 01:01:00  40.7575 -73.9846  B02512              1        1     1"
            ],
            "text/html": [
              "\n",
              "  <div id=\"df-985f76ff-e21f-4ee1-9f45-a543353d0415\">\n",
              "    <div class=\"colab-df-container\">\n",
              "      <div>\n",
              "<style scoped>\n",
              "    .dataframe tbody tr th:only-of-type {\n",
              "        vertical-align: middle;\n",
              "    }\n",
              "\n",
              "    .dataframe tbody tr th {\n",
              "        vertical-align: top;\n",
              "    }\n",
              "\n",
              "    .dataframe thead th {\n",
              "        text-align: right;\n",
              "    }\n",
              "</style>\n",
              "<table border=\"1\" class=\"dataframe\">\n",
              "  <thead>\n",
              "    <tr style=\"text-align: right;\">\n",
              "      <th></th>\n",
              "      <th>Date/Time</th>\n",
              "      <th>Lat</th>\n",
              "      <th>Lon</th>\n",
              "      <th>Base</th>\n",
              "      <th>Date_of_Month</th>\n",
              "      <th>Weekday</th>\n",
              "      <th>Hour</th>\n",
              "    </tr>\n",
              "  </thead>\n",
              "  <tbody>\n",
              "    <tr>\n",
              "      <th>0</th>\n",
              "      <td>2014-04-01 00:11:00</td>\n",
              "      <td>40.7690</td>\n",
              "      <td>-73.9549</td>\n",
              "      <td>B02512</td>\n",
              "      <td>1</td>\n",
              "      <td>1</td>\n",
              "      <td>0</td>\n",
              "    </tr>\n",
              "    <tr>\n",
              "      <th>1</th>\n",
              "      <td>2014-04-01 00:17:00</td>\n",
              "      <td>40.7267</td>\n",
              "      <td>-74.0345</td>\n",
              "      <td>B02512</td>\n",
              "      <td>1</td>\n",
              "      <td>1</td>\n",
              "      <td>0</td>\n",
              "    </tr>\n",
              "    <tr>\n",
              "      <th>2</th>\n",
              "      <td>2014-04-01 00:21:00</td>\n",
              "      <td>40.7316</td>\n",
              "      <td>-73.9873</td>\n",
              "      <td>B02512</td>\n",
              "      <td>1</td>\n",
              "      <td>1</td>\n",
              "      <td>0</td>\n",
              "    </tr>\n",
              "    <tr>\n",
              "      <th>3</th>\n",
              "      <td>2014-04-01 00:28:00</td>\n",
              "      <td>40.7588</td>\n",
              "      <td>-73.9776</td>\n",
              "      <td>B02512</td>\n",
              "      <td>1</td>\n",
              "      <td>1</td>\n",
              "      <td>0</td>\n",
              "    </tr>\n",
              "    <tr>\n",
              "      <th>4</th>\n",
              "      <td>2014-04-01 00:33:00</td>\n",
              "      <td>40.7594</td>\n",
              "      <td>-73.9722</td>\n",
              "      <td>B02512</td>\n",
              "      <td>1</td>\n",
              "      <td>1</td>\n",
              "      <td>0</td>\n",
              "    </tr>\n",
              "    <tr>\n",
              "      <th>5</th>\n",
              "      <td>2014-04-01 00:33:00</td>\n",
              "      <td>40.7383</td>\n",
              "      <td>-74.0403</td>\n",
              "      <td>B02512</td>\n",
              "      <td>1</td>\n",
              "      <td>1</td>\n",
              "      <td>0</td>\n",
              "    </tr>\n",
              "    <tr>\n",
              "      <th>6</th>\n",
              "      <td>2014-04-01 00:39:00</td>\n",
              "      <td>40.7223</td>\n",
              "      <td>-73.9887</td>\n",
              "      <td>B02512</td>\n",
              "      <td>1</td>\n",
              "      <td>1</td>\n",
              "      <td>0</td>\n",
              "    </tr>\n",
              "    <tr>\n",
              "      <th>7</th>\n",
              "      <td>2014-04-01 00:45:00</td>\n",
              "      <td>40.7620</td>\n",
              "      <td>-73.9790</td>\n",
              "      <td>B02512</td>\n",
              "      <td>1</td>\n",
              "      <td>1</td>\n",
              "      <td>0</td>\n",
              "    </tr>\n",
              "    <tr>\n",
              "      <th>8</th>\n",
              "      <td>2014-04-01 00:55:00</td>\n",
              "      <td>40.7524</td>\n",
              "      <td>-73.9960</td>\n",
              "      <td>B02512</td>\n",
              "      <td>1</td>\n",
              "      <td>1</td>\n",
              "      <td>0</td>\n",
              "    </tr>\n",
              "    <tr>\n",
              "      <th>9</th>\n",
              "      <td>2014-04-01 01:01:00</td>\n",
              "      <td>40.7575</td>\n",
              "      <td>-73.9846</td>\n",
              "      <td>B02512</td>\n",
              "      <td>1</td>\n",
              "      <td>1</td>\n",
              "      <td>1</td>\n",
              "    </tr>\n",
              "  </tbody>\n",
              "</table>\n",
              "</div>\n",
              "      <button class=\"colab-df-convert\" onclick=\"convertToInteractive('df-985f76ff-e21f-4ee1-9f45-a543353d0415')\"\n",
              "              title=\"Convert this dataframe to an interactive table.\"\n",
              "              style=\"display:none;\">\n",
              "        \n",
              "  <svg xmlns=\"http://www.w3.org/2000/svg\" height=\"24px\"viewBox=\"0 0 24 24\"\n",
              "       width=\"24px\">\n",
              "    <path d=\"M0 0h24v24H0V0z\" fill=\"none\"/>\n",
              "    <path d=\"M18.56 5.44l.94 2.06.94-2.06 2.06-.94-2.06-.94-.94-2.06-.94 2.06-2.06.94zm-11 1L8.5 8.5l.94-2.06 2.06-.94-2.06-.94L8.5 2.5l-.94 2.06-2.06.94zm10 10l.94 2.06.94-2.06 2.06-.94-2.06-.94-.94-2.06-.94 2.06-2.06.94z\"/><path d=\"M17.41 7.96l-1.37-1.37c-.4-.4-.92-.59-1.43-.59-.52 0-1.04.2-1.43.59L10.3 9.45l-7.72 7.72c-.78.78-.78 2.05 0 2.83L4 21.41c.39.39.9.59 1.41.59.51 0 1.02-.2 1.41-.59l7.78-7.78 2.81-2.81c.8-.78.8-2.07 0-2.86zM5.41 20L4 18.59l7.72-7.72 1.47 1.35L5.41 20z\"/>\n",
              "  </svg>\n",
              "      </button>\n",
              "      \n",
              "  <style>\n",
              "    .colab-df-container {\n",
              "      display:flex;\n",
              "      flex-wrap:wrap;\n",
              "      gap: 12px;\n",
              "    }\n",
              "\n",
              "    .colab-df-convert {\n",
              "      background-color: #E8F0FE;\n",
              "      border: none;\n",
              "      border-radius: 50%;\n",
              "      cursor: pointer;\n",
              "      display: none;\n",
              "      fill: #1967D2;\n",
              "      height: 32px;\n",
              "      padding: 0 0 0 0;\n",
              "      width: 32px;\n",
              "    }\n",
              "\n",
              "    .colab-df-convert:hover {\n",
              "      background-color: #E2EBFA;\n",
              "      box-shadow: 0px 1px 2px rgba(60, 64, 67, 0.3), 0px 1px 3px 1px rgba(60, 64, 67, 0.15);\n",
              "      fill: #174EA6;\n",
              "    }\n",
              "\n",
              "    [theme=dark] .colab-df-convert {\n",
              "      background-color: #3B4455;\n",
              "      fill: #D2E3FC;\n",
              "    }\n",
              "\n",
              "    [theme=dark] .colab-df-convert:hover {\n",
              "      background-color: #434B5C;\n",
              "      box-shadow: 0px 1px 3px 1px rgba(0, 0, 0, 0.15);\n",
              "      filter: drop-shadow(0px 1px 2px rgba(0, 0, 0, 0.3));\n",
              "      fill: #FFFFFF;\n",
              "    }\n",
              "  </style>\n",
              "\n",
              "      <script>\n",
              "        const buttonEl =\n",
              "          document.querySelector('#df-985f76ff-e21f-4ee1-9f45-a543353d0415 button.colab-df-convert');\n",
              "        buttonEl.style.display =\n",
              "          google.colab.kernel.accessAllowed ? 'block' : 'none';\n",
              "\n",
              "        async function convertToInteractive(key) {\n",
              "          const element = document.querySelector('#df-985f76ff-e21f-4ee1-9f45-a543353d0415');\n",
              "          const dataTable =\n",
              "            await google.colab.kernel.invokeFunction('convertToInteractive',\n",
              "                                                     [key], {});\n",
              "          if (!dataTable) return;\n",
              "\n",
              "          const docLinkHtml = 'Like what you see? Visit the ' +\n",
              "            '<a target=\"_blank\" href=https://colab.research.google.com/notebooks/data_table.ipynb>data table notebook</a>'\n",
              "            + ' to learn more about interactive tables.';\n",
              "          element.innerHTML = '';\n",
              "          dataTable['output_type'] = 'display_data';\n",
              "          await google.colab.output.renderOutput(dataTable, element);\n",
              "          const docLink = document.createElement('div');\n",
              "          docLink.innerHTML = docLinkHtml;\n",
              "          element.appendChild(docLink);\n",
              "        }\n",
              "      </script>\n",
              "    </div>\n",
              "  </div>\n",
              "  "
            ]
          },
          "metadata": {},
          "execution_count": 71
        }
      ]
    },
    {
      "cell_type": "markdown",
      "source": [
        "\n",
        "\n",
        "Analyze the number of rides on the particular day"
      ],
      "metadata": {
        "id": "zGWruNbA5XLu"
      }
    },
    {
      "cell_type": "code",
      "source": [
        "plt.figure(figsize=(10,5))\n",
        "plt.hist(april14_data.Date_of_Month,bins=30,rwidth=0.8,range=(0.5,30.5),color='black')\n",
        "plt.xticks(range(0,31))\n",
        "plt.xlabel('Date of the Month')\n",
        "plt.ylabel('Number Of Rides')\n",
        "plt.title('Number of rides on particular day uber - April 2014')\n",
        "plt.show()"
      ],
      "metadata": {
        "colab": {
          "base_uri": "https://localhost:8080/",
          "height": 350
        },
        "id": "1_UBjSu8EIbx",
        "outputId": "feca2b58-32ce-415f-82d6-87c9d317f2eb"
      },
      "execution_count": null,
      "outputs": [
        {
          "output_type": "display_data",
          "data": {
            "text/plain": [
              "<Figure size 720x360 with 1 Axes>"
            ],
            "image/png": "[encoded data removed]"
          },
          "metadata": {
            "needs_background": "light"
          }
        }
      ]
    },
    {
      "cell_type": "code",
      "source": [
        "def CountRows(rows):\n",
        "  return len(rows)\n",
        "\n",
        "frequency = april14_data.groupby('Date_of_Month').apply(CountRows)\n",
        "print(frequency)"
      ],
      "metadata": {
        "colab": {
          "base_uri": "https://localhost:8080/"
        },
        "id": "0vNnE1zcInht",
        "outputId": "b44ee4a6-0e91-4486-fd2b-176b4951de96"
      },
      "execution_count": null,
      "outputs": [
        {
          "output_type": "stream",
          "name": "stdout",
          "text": [
            "Date_of_Month\n",
            "1     14546\n",
            "2     17474\n",
            "3     20701\n",
            "4     26714\n",
            "5     19521\n",
            "6     13445\n",
            "7     19550\n",
            "8     16188\n",
            "9     16843\n",
            "10    20041\n",
            "11    20420\n",
            "12    18170\n",
            "13    12112\n",
            "14    12674\n",
            "15    20641\n",
            "16    17717\n",
            "17    20973\n",
            "18    18074\n",
            "19    14602\n",
            "20    11017\n",
            "21    13162\n",
            "22    16975\n",
            "23    20346\n",
            "24    23352\n",
            "25    25095\n",
            "26    24925\n",
            "27    14677\n",
            "28    15475\n",
            "29    22835\n",
            "30    36251\n",
            "dtype: int64\n"
          ]
        }
      ]
    },
    {
      "cell_type": "code",
      "source": [
        "frequency_sorted = frequency.sort_values()\n",
        "frequency_sorted"
      ],
      "metadata": {
        "colab": {
          "base_uri": "https://localhost:8080/"
        },
        "id": "VRofCwu8NfBq",
        "outputId": "bffeb3b3-f015-423a-a161-e763f5ffed1b"
      },
      "execution_count": null,
      "outputs": [
        {
          "output_type": "execute_result",
          "data": {
            "text/plain": [
              "Date_of_Month\n",
              "20    11017\n",
              "13    12112\n",
              "14    12674\n",
              "21    13162\n",
              "6     13445\n",
              "1     14546\n",
              "19    14602\n",
              "27    14677\n",
              "28    15475\n",
              "8     16188\n",
              "9     16843\n",
              "22    16975\n",
              "2     17474\n",
              "16    17717\n",
              "18    18074\n",
              "12    18170\n",
              "5     19521\n",
              "7     19550\n",
              "10    20041\n",
              "23    20346\n",
              "11    20420\n",
              "15    20641\n",
              "3     20701\n",
              "17    20973\n",
              "29    22835\n",
              "24    23352\n",
              "26    24925\n",
              "25    25095\n",
              "4     26714\n",
              "30    36251\n",
              "dtype: int64"
            ]
          },
          "metadata": {},
          "execution_count": 74
        }
      ]
    },
    {
      "cell_type": "code",
      "source": [
        "plt.figure(figsize = (10, 5))\n",
        "plt.bar(range(1 , 31), frequency_sorted,color='black')\n",
        "plt.xticks(range(1,31),frequency_sorted.index)\n",
        "plt.xlabel('Date of the Month')\n",
        "plt.ylabel('Number Of Rides')\n",
        "plt.title('Number of rides on particular day uber - April 2014')\n",
        "plt.show()"
      ],
      "metadata": {
        "colab": {
          "base_uri": "https://localhost:8080/",
          "height": 350
        },
        "id": "Q2J30FqlOUvm",
        "outputId": "a8ababfd-4736-4b2f-b233-1744e854c365"
      },
      "execution_count": null,
      "outputs": [
        {
          "output_type": "display_data",
          "data": {
            "text/plain": [
              "<Figure size 720x360 with 1 Axes>"
            ],
            "image/png": "[encoded data removed]"
          },
          "metadata": {
            "needs_background": "light"
          }
        }
      ]
    },
    {
      "cell_type": "markdown",
      "source": [
        "Analyze the Hour"
      ],
      "metadata": {
        "id": "H2GAQAruuVX1"
      }
    },
    {
      "cell_type": "code",
      "source": [
        "plt.figure(figsize = (10, 5))\n",
        "plt.hist(april14_data.Hour, bins=24, range=(-0.5,23.5),rwidth=0.8,color='black')\n",
        "plt.xticks(range(0, 24))\n",
        "plt.xlabel('Hour')\n",
        "plt.ylabel('Number Of Rides')\n",
        "plt.title('Number of rides on particular Hour uber - April 2014')\n",
        "plt.show()"
      ],
      "metadata": {
        "colab": {
          "base_uri": "https://localhost:8080/",
          "height": 350
        },
        "id": "ajR99OzytYBf",
        "outputId": "13e2f2ff-073a-4925-efe7-6b47fff231ea"
      },
      "execution_count": null,
      "outputs": [
        {
          "output_type": "display_data",
          "data": {
            "text/plain": [
              "<Figure size 720x360 with 1 Axes>"
            ],
            "image/png": "[encoded data removed]"
          },
          "metadata": {
            "needs_background": "light"
          }
        }
      ]
    },
    {
      "cell_type": "code",
      "source": [
        "def CountRows(rows):\n",
        "  return len(rows)\n",
        "\n",
        "frequency = april14_data.groupby('Hour').apply(CountRows)\n",
        "print(frequency)"
      ],
      "metadata": {
        "colab": {
          "base_uri": "https://localhost:8080/"
        },
        "id": "K3DTvrnouCvb",
        "outputId": "e79d1533-263a-4224-9b3f-7d8c58d742fa"
      },
      "execution_count": null,
      "outputs": [
        {
          "output_type": "stream",
          "name": "stdout",
          "text": [
            "Hour\n",
            "0     11910\n",
            "1      7769\n",
            "2      4935\n",
            "3      5040\n",
            "4      6095\n",
            "5      9476\n",
            "6     18498\n",
            "7     24924\n",
            "8     22843\n",
            "9     17939\n",
            "10    17865\n",
            "11    18774\n",
            "12    19425\n",
            "13    22603\n",
            "14    27190\n",
            "15    35324\n",
            "16    42003\n",
            "17    45475\n",
            "18    43003\n",
            "19    38923\n",
            "20    36244\n",
            "21    36964\n",
            "22    30645\n",
            "23    20649\n",
            "dtype: int64\n"
          ]
        }
      ]
    },
    {
      "cell_type": "markdown",
      "source": [
        "Analyze the Weekday"
      ],
      "metadata": {
        "id": "bH3YNOhp1Hh4"
      }
    },
    {
      "cell_type": "code",
      "source": [
        "plt.figure(figsize = (6, 4))\n",
        "plt.hist(april14_data.Weekday, bins=7, range=(-0.5,6.5),rwidth=0.8,color='black')\n",
        "plt.xticks(range(0, 7),'Mon Tue Wed Thu Fri Sat Sun'.split())\n",
        "plt.xlabel('Hour')\n",
        "plt.ylabel('Number Of Rides')\n",
        "plt.title('Number of rides on particular Hour uber - April 2014')\n",
        "plt.show()"
      ],
      "metadata": {
        "colab": {
          "base_uri": "https://localhost:8080/",
          "height": 294
        },
        "id": "CrjMZI69ytw8",
        "outputId": "69a8723d-becf-43d5-8aa7-a63c1055cb82"
      },
      "execution_count": null,
      "outputs": [
        {
          "output_type": "display_data",
          "data": {
            "text/plain": [
              "<Figure size 432x288 with 1 Axes>"
            ],
            "image/png": "[encoded data removed]"
          },
          "metadata": {
            "needs_background": "light"
          }
        }
      ]
    },
    {
      "cell_type": "code",
      "source": [
        "def CountRows(rows):\n",
        "  return len(rows)\n",
        "\n",
        "frequency = april14_data.groupby('Weekday').apply(CountRows)\n",
        "\n",
        "print(frequency)"
      ],
      "metadata": {
        "colab": {
          "base_uri": "https://localhost:8080/"
        },
        "id": "DYYt0ddi0UyY",
        "outputId": "15cb237b-1444-45ab-e861-0465e5ce871a"
      },
      "execution_count": null,
      "outputs": [
        {
          "output_type": "stream",
          "name": "stdout",
          "text": [
            "Weekday\n",
            "0     60861\n",
            "1     91185\n",
            "2    108631\n",
            "3     85067\n",
            "4     90303\n",
            "5     77218\n",
            "6     51251\n",
            "dtype: int64\n"
          ]
        }
      ]
    },
    {
      "cell_type": "markdown",
      "source": [
        "Cross Analysis (Hour, Day of Week)"
      ],
      "metadata": {
        "id": "uRn7y5zR6HAR"
      }
    },
    {
      "cell_type": "code",
      "source": [
        "\n",
        "Hour_Day = april14_data.groupby('Hour Weekday'.split()).apply(CountRows).unstack()\n",
        "Hour_Day"
      ],
      "metadata": {
        "colab": {
          "base_uri": "https://localhost:8080/",
          "height": 833
        },
        "id": "bl3Y6prY1Bxt",
        "outputId": "777dcb72-124a-4928-9ede-ad6e034614d5"
      },
      "execution_count": null,
      "outputs": [
        {
          "output_type": "execute_result",
          "data": {
            "text/plain": [
              "Weekday     0     1     2     3     4     5     6\n",
              "Hour                                             \n",
              "0         518   765   899   792  1367  3027  4542\n",
              "1         261   367   507   459   760  2479  2936\n",
              "2         238   304   371   342   513  1577  1590\n",
              "3         571   516   585   567   736  1013  1052\n",
              "4        1021   887  1003   861   932   706   685\n",
              "5        1619  1734  1990  1454  1382   704   593\n",
              "6        2974  3766  4230  3179  2836   844   669\n",
              "7        3888  5304  5647  4159  3943  1110   873\n",
              "8        3138  4594  5242  3616  3648  1372  1233\n",
              "9        2211  2962  3846  2654  2732  1764  1770\n",
              "10       1953  2900  3844  2370  2599  2086  2113\n",
              "11       1929  2949  3889  2516  2816  2315  2360\n",
              "12       1945  2819  3988  2657  2978  2560  2478\n",
              "13       2294  3556  4469  3301  3535  2685  2763\n",
              "14       3117  4489  5438  4083  4087  3042  2934\n",
              "15       3818  6042  7071  5182  5354  4457  3400\n",
              "16       4962  7521  8213  6149  6259  5410  3489\n",
              "17       5574  8297  9151  6951  6790  5558  3154\n",
              "18       4725  7089  8334  6637  7258  6165  2795\n",
              "19       4386  6459  7794  5929  6247  5529  2579\n",
              "20       3573  6310  7783  6345  5165  4792  2276\n",
              "21       3079  5993  6921  6585  6265  5811  2310\n",
              "22       1976  3614  4845  5370  6708  6493  1639\n",
              "23       1091  1948  2571  2909  5393  5719  1018"
            ],
            "text/html": [
              "\n",
              "  <div id=\"df-fcdbdd64-1b12-4bf4-a45e-7b049f6efd8e\">\n",
              "    <div class=\"colab-df-container\">\n",
              "      <div>\n",
              "<style scoped>\n",
              "    .dataframe tbody tr th:only-of-type {\n",
              "        vertical-align: middle;\n",
              "    }\n",
              "\n",
              "    .dataframe tbody tr th {\n",
              "        vertical-align: top;\n",
              "    }\n",
              "\n",
              "    .dataframe thead th {\n",
              "        text-align: right;\n",
              "    }\n",
              "</style>\n",
              "<table border=\"1\" class=\"dataframe\">\n",
              "  <thead>\n",
              "    <tr style=\"text-align: right;\">\n",
              "      <th>Weekday</th>\n",
              "      <th>0</th>\n",
              "      <th>1</th>\n",
              "      <th>2</th>\n",
              "      <th>3</th>\n",
              "      <th>4</th>\n",
              "      <th>5</th>\n",
              "      <th>6</th>\n",
              "    </tr>\n",
              "    <tr>\n",
              "      <th>Hour</th>\n",
              "      <th></th>\n",
              "      <th></th>\n",
              "      <th></th>\n",
              "      <th></th>\n",
              "      <th></th>\n",
              "      <th></th>\n",
              "      <th></th>\n",
              "    </tr>\n",
              "  </thead>\n",
              "  <tbody>\n",
              "    <tr>\n",
              "      <th>0</th>\n",
              "      <td>518</td>\n",
              "      <td>765</td>\n",
              "      <td>899</td>\n",
              "      <td>792</td>\n",
              "      <td>1367</td>\n",
              "      <td>3027</td>\n",
              "      <td>4542</td>\n",
              "    </tr>\n",
              "    <tr>\n",
              "      <th>1</th>\n",
              "      <td>261</td>\n",
              "      <td>367</td>\n",
              "      <td>507</td>\n",
              "      <td>459</td>\n",
              "      <td>760</td>\n",
              "      <td>2479</td>\n",
              "      <td>2936</td>\n",
              "    </tr>\n",
              "    <tr>\n",
              "      <th>2</th>\n",
              "      <td>238</td>\n",
              "      <td>304</td>\n",
              "      <td>371</td>\n",
              "      <td>342</td>\n",
              "      <td>513</td>\n",
              "      <td>1577</td>\n",
              "      <td>1590</td>\n",
              "    </tr>\n",
              "    <tr>\n",
              "      <th>3</th>\n",
              "      <td>571</td>\n",
              "      <td>516</td>\n",
              "      <td>585</td>\n",
              "      <td>567</td>\n",
              "      <td>736</td>\n",
              "      <td>1013</td>\n",
              "      <td>1052</td>\n",
              "    </tr>\n",
              "    <tr>\n",
              "      <th>4</th>\n",
              "      <td>1021</td>\n",
              "      <td>887</td>\n",
              "      <td>1003</td>\n",
              "      <td>861</td>\n",
              "      <td>932</td>\n",
              "      <td>706</td>\n",
              "      <td>685</td>\n",
              "    </tr>\n",
              "    <tr>\n",
              "      <th>5</th>\n",
              "      <td>1619</td>\n",
              "      <td>1734</td>\n",
              "      <td>1990</td>\n",
              "      <td>1454</td>\n",
              "      <td>1382</td>\n",
              "      <td>704</td>\n",
              "      <td>593</td>\n",
              "    </tr>\n",
              "    <tr>\n",
              "      <th>6</th>\n",
              "      <td>2974</td>\n",
              "      <td>3766</td>\n",
              "      <td>4230</td>\n",
              "      <td>3179</td>\n",
              "      <td>2836</td>\n",
              "      <td>844</td>\n",
              "      <td>669</td>\n",
              "    </tr>\n",
              "    <tr>\n",
              "      <th>7</th>\n",
              "      <td>3888</td>\n",
              "      <td>5304</td>\n",
              "      <td>5647</td>\n",
              "      <td>4159</td>\n",
              "      <td>3943</td>\n",
              "      <td>1110</td>\n",
              "      <td>873</td>\n",
              "    </tr>\n",
              "    <tr>\n",
              "      <th>8</th>\n",
              "      <td>3138</td>\n",
              "      <td>4594</td>\n",
              "      <td>5242</td>\n",
              "      <td>3616</td>\n",
              "      <td>3648</td>\n",
              "      <td>1372</td>\n",
              "      <td>1233</td>\n",
              "    </tr>\n",
              "    <tr>\n",
              "      <th>9</th>\n",
              "      <td>2211</td>\n",
              "      <td>2962</td>\n",
              "      <td>3846</td>\n",
              "      <td>2654</td>\n",
              "      <td>2732</td>\n",
              "      <td>1764</td>\n",
              "      <td>1770</td>\n",
              "    </tr>\n",
              "    <tr>\n",
              "      <th>10</th>\n",
              "      <td>1953</td>\n",
              "      <td>2900</td>\n",
              "      <td>3844</td>\n",
              "      <td>2370</td>\n",
              "      <td>2599</td>\n",
              "      <td>2086</td>\n",
              "      <td>2113</td>\n",
              "    </tr>\n",
              "    <tr>\n",
              "      <th>11</th>\n",
              "      <td>1929</td>\n",
              "      <td>2949</td>\n",
              "      <td>3889</td>\n",
              "      <td>2516</td>\n",
              "      <td>2816</td>\n",
              "      <td>2315</td>\n",
              "      <td>2360</td>\n",
              "    </tr>\n",
              "    <tr>\n",
              "      <th>12</th>\n",
              "      <td>1945</td>\n",
              "      <td>2819</td>\n",
              "      <td>3988</td>\n",
              "      <td>2657</td>\n",
              "      <td>2978</td>\n",
              "      <td>2560</td>\n",
              "      <td>2478</td>\n",
              "    </tr>\n",
              "    <tr>\n",
              "      <th>13</th>\n",
              "      <td>2294</td>\n",
              "      <td>3556</td>\n",
              "      <td>4469</td>\n",
              "      <td>3301</td>\n",
              "      <td>3535</td>\n",
              "      <td>2685</td>\n",
              "      <td>2763</td>\n",
              "    </tr>\n",
              "    <tr>\n",
              "      <th>14</th>\n",
              "      <td>3117</td>\n",
              "      <td>4489</td>\n",
              "      <td>5438</td>\n",
              "      <td>4083</td>\n",
              "      <td>4087</td>\n",
              "      <td>3042</td>\n",
              "      <td>2934</td>\n",
              "    </tr>\n",
              "    <tr>\n",
              "      <th>15</th>\n",
              "      <td>3818</td>\n",
              "      <td>6042</td>\n",
              "      <td>7071</td>\n",
              "      <td>5182</td>\n",
              "      <td>5354</td>\n",
              "      <td>4457</td>\n",
              "      <td>3400</td>\n",
              "    </tr>\n",
              "    <tr>\n",
              "      <th>16</th>\n",
              "      <td>4962</td>\n",
              "      <td>7521</td>\n",
              "      <td>8213</td>\n",
              "      <td>6149</td>\n",
              "      <td>6259</td>\n",
              "      <td>5410</td>\n",
              "      <td>3489</td>\n",
              "    </tr>\n",
              "    <tr>\n",
              "      <th>17</th>\n",
              "      <td>5574</td>\n",
              "      <td>8297</td>\n",
              "      <td>9151</td>\n",
              "      <td>6951</td>\n",
              "      <td>6790</td>\n",
              "      <td>5558</td>\n",
              "      <td>3154</td>\n",
              "    </tr>\n",
              "    <tr>\n",
              "      <th>18</th>\n",
              "      <td>4725</td>\n",
              "      <td>7089</td>\n",
              "      <td>8334</td>\n",
              "      <td>6637</td>\n",
              "      <td>7258</td>\n",
              "      <td>6165</td>\n",
              "      <td>2795</td>\n",
              "    </tr>\n",
              "    <tr>\n",
              "      <th>19</th>\n",
              "      <td>4386</td>\n",
              "      <td>6459</td>\n",
              "      <td>7794</td>\n",
              "      <td>5929</td>\n",
              "      <td>6247</td>\n",
              "      <td>5529</td>\n",
              "      <td>2579</td>\n",
              "    </tr>\n",
              "    <tr>\n",
              "      <th>20</th>\n",
              "      <td>3573</td>\n",
              "      <td>6310</td>\n",
              "      <td>7783</td>\n",
              "      <td>6345</td>\n",
              "      <td>5165</td>\n",
              "      <td>4792</td>\n",
              "      <td>2276</td>\n",
              "    </tr>\n",
              "    <tr>\n",
              "      <th>21</th>\n",
              "      <td>3079</td>\n",
              "      <td>5993</td>\n",
              "      <td>6921</td>\n",
              "      <td>6585</td>\n",
              "      <td>6265</td>\n",
              "      <td>5811</td>\n",
              "      <td>2310</td>\n",
              "    </tr>\n",
              "    <tr>\n",
              "      <th>22</th>\n",
              "      <td>1976</td>\n",
              "      <td>3614</td>\n",
              "      <td>4845</td>\n",
              "      <td>5370</td>\n",
              "      <td>6708</td>\n",
              "      <td>6493</td>\n",
              "      <td>1639</td>\n",
              "    </tr>\n",
              "    <tr>\n",
              "      <th>23</th>\n",
              "      <td>1091</td>\n",
              "      <td>1948</td>\n",
              "      <td>2571</td>\n",
              "      <td>2909</td>\n",
              "      <td>5393</td>\n",
              "      <td>5719</td>\n",
              "      <td>1018</td>\n",
              "    </tr>\n",
              "  </tbody>\n",
              "</table>\n",
              "</div>\n",
              "      <button class=\"colab-df-convert\" onclick=\"convertToInteractive('df-fcdbdd64-1b12-4bf4-a45e-7b049f6efd8e')\"\n",
              "              title=\"Convert this dataframe to an interactive table.\"\n",
              "              style=\"display:none;\">\n",
              "        \n",
              "  <svg xmlns=\"http://www.w3.org/2000/svg\" height=\"24px\"viewBox=\"0 0 24 24\"\n",
              "       width=\"24px\">\n",
              "    <path d=\"M0 0h24v24H0V0z\" fill=\"none\"/>\n",
              "    <path d=\"M18.56 5.44l.94 2.06.94-2.06 2.06-.94-2.06-.94-.94-2.06-.94 2.06-2.06.94zm-11 1L8.5 8.5l.94-2.06 2.06-.94-2.06-.94L8.5 2.5l-.94 2.06-2.06.94zm10 10l.94 2.06.94-2.06 2.06-.94-2.06-.94-.94-2.06-.94 2.06-2.06.94z\"/><path d=\"M17.41 7.96l-1.37-1.37c-.4-.4-.92-.59-1.43-.59-.52 0-1.04.2-1.43.59L10.3 9.45l-7.72 7.72c-.78.78-.78 2.05 0 2.83L4 21.41c.39.39.9.59 1.41.59.51 0 1.02-.2 1.41-.59l7.78-7.78 2.81-2.81c.8-.78.8-2.07 0-2.86zM5.41 20L4 18.59l7.72-7.72 1.47 1.35L5.41 20z\"/>\n",
              "  </svg>\n",
              "      </button>\n",
              "      \n",
              "  <style>\n",
              "    .colab-df-container {\n",
              "      display:flex;\n",
              "      flex-wrap:wrap;\n",
              "      gap: 12px;\n",
              "    }\n",
              "\n",
              "    .colab-df-convert {\n",
              "      background-color: #E8F0FE;\n",
              "      border: none;\n",
              "      border-radius: 50%;\n",
              "      cursor: pointer;\n",
              "      display: none;\n",
              "      fill: #1967D2;\n",
              "      height: 32px;\n",
              "      padding: 0 0 0 0;\n",
              "      width: 32px;\n",
              "    }\n",
              "\n",
              "    .colab-df-convert:hover {\n",
              "      background-color: #E2EBFA;\n",
              "      box-shadow: 0px 1px 2px rgba(60, 64, 67, 0.3), 0px 1px 3px 1px rgba(60, 64, 67, 0.15);\n",
              "      fill: #174EA6;\n",
              "    }\n",
              "\n",
              "    [theme=dark] .colab-df-convert {\n",
              "      background-color: #3B4455;\n",
              "      fill: #D2E3FC;\n",
              "    }\n",
              "\n",
              "    [theme=dark] .colab-df-convert:hover {\n",
              "      background-color: #434B5C;\n",
              "      box-shadow: 0px 1px 3px 1px rgba(0, 0, 0, 0.15);\n",
              "      filter: drop-shadow(0px 1px 2px rgba(0, 0, 0, 0.3));\n",
              "      fill: #FFFFFF;\n",
              "    }\n",
              "  </style>\n",
              "\n",
              "      <script>\n",
              "        const buttonEl =\n",
              "          document.querySelector('#df-fcdbdd64-1b12-4bf4-a45e-7b049f6efd8e button.colab-df-convert');\n",
              "        buttonEl.style.display =\n",
              "          google.colab.kernel.accessAllowed ? 'block' : 'none';\n",
              "\n",
              "        async function convertToInteractive(key) {\n",
              "          const element = document.querySelector('#df-fcdbdd64-1b12-4bf4-a45e-7b049f6efd8e');\n",
              "          const dataTable =\n",
              "            await google.colab.kernel.invokeFunction('convertToInteractive',\n",
              "                                                     [key], {});\n",
              "          if (!dataTable) return;\n",
              "\n",
              "          const docLinkHtml = 'Like what you see? Visit the ' +\n",
              "            '<a target=\"_blank\" href=https://colab.research.google.com/notebooks/data_table.ipynb>data table notebook</a>'\n",
              "            + ' to learn more about interactive tables.';\n",
              "          element.innerHTML = '';\n",
              "          dataTable['output_type'] = 'display_data';\n",
              "          await google.colab.output.renderOutput(dataTable, element);\n",
              "          const docLink = document.createElement('div');\n",
              "          docLink.innerHTML = docLinkHtml;\n",
              "          element.appendChild(docLink);\n",
              "        }\n",
              "      </script>\n",
              "    </div>\n",
              "  </div>\n",
              "  "
            ]
          },
          "metadata": {},
          "execution_count": 80
        }
      ]
    },
    {
      "cell_type": "code",
      "source": [
        "sns.heatmap(Hour_Day)"
      ],
      "metadata": {
        "colab": {
          "base_uri": "https://localhost:8080/",
          "height": 298
        },
        "id": "z-sXpU_p69aR",
        "outputId": "5d351d49-dcd2-4f8f-f819-c41b1ccb380f"
      },
      "execution_count": null,
      "outputs": [
        {
          "output_type": "execute_result",
          "data": {
            "text/plain": [
              "<matplotlib.axes._subplots.AxesSubplot at 0x7fd76dff8210>"
            ]
          },
          "metadata": {},
          "execution_count": 81
        },
        {
          "output_type": "display_data",
          "data": {
            "text/plain": [
              "<Figure size 432x288 with 2 Axes>"
            ],
            "image/png": "[encoded data removed]"
          },
          "metadata": {
            "needs_background": "light"
          }
        }
      ]
    },
    {
      "cell_type": "markdown",
      "source": [
        "Analyze Latitude and Longitude"
      ],
      "metadata": {
        "id": "p4W-OnHWdqlh"
      }
    },
    {
      "cell_type": "code",
      "source": [
        "plt.hist(april14_data['Lat'],bins=100,range=(40.5,41))\n",
        "plt.show()"
      ],
      "metadata": {
        "id": "4AHmdX729JUW",
        "colab": {
          "base_uri": "https://localhost:8080/",
          "height": 264
        },
        "outputId": "9ef554bd-9acc-40c6-ff81-dfe0eb32ef63"
      },
      "execution_count": null,
      "outputs": [
        {
          "output_type": "display_data",
          "data": {
            "text/plain": [
              "<Figure size 432x288 with 1 Axes>"
            ],
            "image/png": "[encoded data removed]"
          },
          "metadata": {
            "needs_background": "light"
          }
        }
      ]
    },
    {
      "cell_type": "code",
      "source": [
        "plt.hist(april14_data['Lon'],bins=100,range=(-74.5,-73.5))\n",
        "plt.show()"
      ],
      "metadata": {
        "colab": {
          "base_uri": "https://localhost:8080/",
          "height": 264
        },
        "id": "sQqA6LqEj_IJ",
        "outputId": "e8c2d9c2-a3ce-4181-8fc8-5413962778a8"
      },
      "execution_count": null,
      "outputs": [
        {
          "output_type": "display_data",
          "data": {
            "text/plain": [
              "<Figure size 432x288 with 1 Axes>"
            ],
            "image/png": "[encoded data removed]"
          },
          "metadata": {
            "needs_background": "light"
          }
        }
      ]
    },
    {
      "cell_type": "code",
      "source": [
        "plt.figure(figsize=(8,4))\n",
        "plt.hist(april14_data['Lon'],bins=100,range=(-74.1,-73.9),color='g',alpha=0.7,label='longitude')\n",
        "plt.legend(loc='upper left')\n",
        "plt.twiny()\n",
        "plt.hist(april14_data['Lat'],bins=100,range=(40.5,41),color='r',alpha=0.5,label='latitude')\n",
        "plt.legend(loc='upper right')"
      ],
      "metadata": {
        "colab": {
          "base_uri": "https://localhost:8080/",
          "height": 300
        },
        "id": "PepjmZ56kNP6",
        "outputId": "40b5a359-a279-4a57-abc5-872d2689b4fa"
      },
      "execution_count": null,
      "outputs": [
        {
          "output_type": "execute_result",
          "data": {
            "text/plain": [
              "<matplotlib.legend.Legend at 0x7fd76b688290>"
            ]
          },
          "metadata": {},
          "execution_count": 84
        },
        {
          "output_type": "display_data",
          "data": {
            "text/plain": [
              "<Figure size 576x288 with 2 Axes>"
            ],
            "image/png": "[encoded data removed]"
          },
          "metadata": {
            "needs_background": "light"
          }
        }
      ]
    },
    {
      "cell_type": "code",
      "source": [
        "plt.figure(figsize=(10,5))\n",
        "plt.plot(april14_data['Lon'],april14_data['Lat'],'.',ms=5,alpha=0.6)\n",
        "plt.xlim(-74.2,-73.7)\n",
        "plt.ylim(40.7,41)"
      ],
      "metadata": {
        "colab": {
          "base_uri": "https://localhost:8080/",
          "height": 342
        },
        "id": "tbM4fQgdnWOK",
        "outputId": "d9e9a460-dfb0-43e8-8cfa-636fef998de9"
      },
      "execution_count": null,
      "outputs": [
        {
          "output_type": "execute_result",
          "data": {
            "text/plain": [
              "(40.7, 41.0)"
            ]
          },
          "metadata": {},
          "execution_count": 85
        },
        {
          "output_type": "display_data",
          "data": {
            "text/plain": [
              "<Figure size 720x360 with 1 Axes>"
            ],
            "image/png": "[encoded data removed]"
          },
          "metadata": {
            "needs_background": "light"
          }
        }
      ]
    }
  ]
}